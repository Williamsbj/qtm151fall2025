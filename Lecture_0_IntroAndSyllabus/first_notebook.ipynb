{
 "cells": [
  {
   "cell_type": "markdown",
   "id": "e88d6420",
   "metadata": {},
   "source": [
    "<font size=\"5\"><span style=\"color:darkblue\"> Lecture 1: Introduction to Jupyter Notebooks </span> "
   ]
  },
  {
   "cell_type": "code",
   "execution_count": 10,
   "id": "759a15cd",
   "metadata": {},
   "outputs": [
    {
     "name": "stdout",
     "output_type": "stream",
     "text": [
      "My name is William Sheng\n"
     ]
    }
   ],
   "source": [
    "print(\"My name is William Sheng\") "
   ]
  }
 ],
 "metadata": {
  "kernelspec": {
   "display_name": "Python 3",
   "language": "python",
   "name": "python3"
  },
  "language_info": {
   "codemirror_mode": {
    "name": "ipython",
    "version": 3
   },
   "file_extension": ".py",
   "mimetype": "text/x-python",
   "name": "python",
   "nbconvert_exporter": "python",
   "pygments_lexer": "ipython3",
   "version": "3.13.5"
  }
 },
 "nbformat": 4,
 "nbformat_minor": 5
}
